{
 "metadata": {
  "language_info": {
   "codemirror_mode": {
    "name": "ipython",
    "version": 3
   },
   "file_extension": ".py",
   "mimetype": "text/x-python",
   "name": "python",
   "nbconvert_exporter": "python",
   "pygments_lexer": "ipython3",
   "version": 3
  },
  "orig_nbformat": 2
 },
 "nbformat": 4,
 "nbformat_minor": 2,
 "cells": [
  {
   "cell_type": "code",
   "execution_count": null,
   "metadata": {},
   "outputs": [],
   "source": [
    "# imprt dependencies\n",
    "import json\n",
    "import requests\n",
    "import pandas as pd\n",
    "\n",
    "\n"
   ]
  },
  {
   "cell_type": "code",
   "execution_count": null,
   "metadata": {},
   "outputs": [],
   "source": [
    "# List of character\n",
    "search_characters = ['R2-D2', 'Darth Vader', 'Godzilla', 'Luke Skywalker', 'Frodo', \\\n",
    "              'Boba Fett', 'Iron Man', 'Jon Snow', 'Han Solo']\n"
   ]
  },
  {
   "cell_type": "code",
   "execution_count": null,
   "metadata": {},
   "outputs": [],
   "source": [
    "# Set url for API\n",
    "url = 'https://swapi.co/api/people/?search='"
   ]
  },
  {
   "cell_type": "code",
   "execution_count": null,
   "metadata": {},
   "outputs": [],
   "source": [
    "# Set empty lists to hold characters height and mass\n",
    "height = []\n",
    "mass = []\n",
    "starwars_characters = []"
   ]
  },
  {
   "cell_type": "code",
   "execution_count": null,
   "metadata": {},
   "outputs": [],
   "source": [
    "# Loop through each character\n",
    "for character in search_characters:\n",
    "    \n",
    "    # Create search query, make request and store in json\n",
    "    query = url + character\n",
    "    response = requests.get(query)\n",
    "    response_json = response.json()\n",
    "    \n",
    "    # Try to grab the height and mass of characters if they are available in the Star Wars API\n",
    "    try:\n",
    "        height.append(response_json['results'][0]['height'])\n",
    "        mass.append(response_json['results'][0]['mass'])\n",
    "        starwars_characters.append(character)\n",
    "        print(f\"{character} found! Appending stats\")\n",
    "        \n",
    "    # Handle exceptions for a character that is not available in the Star Wars API\n",
    "    except:\n",
    "        # Append null values\n",
    "        print(\"Character not found\")\n",
    "        pass"
   ]
  },
  {
   "cell_type": "code",
   "execution_count": null,
   "metadata": {},
   "outputs": [],
   "source": [
    "# Create DataFrame\n",
    "character_height = pd.DataFrame({\n",
    "    'character': starwars_characters,\n",
    "    'height': height,\n",
    "    'mass': mass\n",
    "})\n",
    "character_height"
   ]
  }
 ]
}